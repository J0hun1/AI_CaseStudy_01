{
 "cells": [
  {
   "cell_type": "markdown",
   "metadata": {},
   "source": [
    "# This is an initial comparison for the machine learning models to be used for the Student Sleep Quality dataset"
   ]
  },
  {
   "cell_type": "code",
   "execution_count": null,
   "metadata": {},
   "outputs": [],
   "source": [
    "import pandas as pd\n",
    "\n",
    "from lazypredict.Supervised import LazyClassifier\n",
    "from sklearn.model_selection import train_test_split\n",
    "\n",
    "import warnings\n",
    "warnings.filterwarnings('ignore')"
   ]
  },
  {
   "cell_type": "code",
   "execution_count": null,
   "metadata": {},
   "outputs": [],
   "source": [
    "def evaluateLazyClassifiers(data_path, features_to_ignore, features_for_regression):\n",
    "    data = pd.read_csv(data_path)\n",
    "    data = data.drop(features_to_ignore, axis = 1)\n",
    "    \n",
    "    features = data.drop(features_for_regression, axis = 1)\n",
    "    targets = data[features_for_regression]\n",
    "    features_train, features_test, targets_train, targets_test = train_test_split(features, targets, test_size = 0.2, random_state = 42)\n",
    "    \n",
    "    lazyClassifier = LazyClassifier(verbose = 0, ignore_warnings = True, custom_metric = None)\n",
    "    models, predictions = lazyClassifier.fit(features_train, features_test, targets_train, targets_test)\n",
    "    return models"
   ]
  },
  {
   "cell_type": "code",
   "execution_count": null,
   "metadata": {},
   "outputs": [],
   "source": [
    "models = evaluateLazyClassifiers('student_sleep_patterns.csv', ['Student_ID'], ['Sleep_Quality'])"
   ]
  },
  {
   "cell_type": "code",
   "execution_count": null,
   "metadata": {},
   "outputs": [],
   "source": [
    "models"
   ]
  }
 ],
 "metadata": {
  "kernelspec": {
   "display_name": "Python 3",
   "language": "python",
   "name": "python3"
  },
  "language_info": {
   "codemirror_mode": {
    "name": "ipython",
    "version": 3
   },
   "file_extension": ".py",
   "mimetype": "text/x-python",
   "name": "python",
   "nbconvert_exporter": "python",
   "pygments_lexer": "ipython3",
   "version": "3.11.2"
  }
 },
 "nbformat": 4,
 "nbformat_minor": 2
}
